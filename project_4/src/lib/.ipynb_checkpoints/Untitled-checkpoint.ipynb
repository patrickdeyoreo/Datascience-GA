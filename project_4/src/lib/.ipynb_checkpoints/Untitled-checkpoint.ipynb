{
 "cells": [
  {
   "cell_type": "code",
   "execution_count": 2,
   "metadata": {
    "scrolled": true
   },
   "outputs": [
    {
     "name": "stdout",
     "output_type": "stream",
     "text": [
      "Collecting redis\n",
      "  Downloading redis-2.10.5-py2.py3-none-any.whl (60kB)\n",
      "\u001b[K    100% |████████████████████████████████| 61kB 2.6MB/s ta 0:00:01\n",
      "\u001b[?25hInstalling collected packages: redis\n",
      "Successfully installed redis-2.10.5\n",
      "\u001b[33mYou are using pip version 8.1.2, however version 9.0.1 is available.\n",
      "You should consider upgrading via the 'pip install --upgrade pip' command.\u001b[0m\n"
     ]
    }
   ],
   "source": [
    "!pip install redis"
   ]
  },
  {
   "cell_type": "code",
   "execution_count": 3,
   "metadata": {
    "collapsed": true
   },
   "outputs": [],
   "source": [
    "from redis import StrictRedis\n",
    "from urllib.parse import urlencode\n",
    "import requests\n",
    "import json"
   ]
  },
  {
   "cell_type": "code",
   "execution_count": 8,
   "metadata": {},
   "outputs": [
    {
     "data": {
      "text/plain": [
       "'abc=%28%27xyz%27%2C+%27jkl%27%29'"
      ]
     },
     "execution_count": 8,
     "metadata": {},
     "output_type": "execute_result"
    }
   ],
   "source": [
    "urlencode({'abc': ('xyz', 'jkl')})"
   ]
  },
  {
   "cell_type": "code",
   "execution_count": 20,
   "metadata": {
    "collapsed": true
   },
   "outputs": [],
   "source": [
    "r = StrictRedis(host='52.41.187.171')"
   ]
  },
  {
   "cell_type": "code",
   "execution_count": 21,
   "metadata": {},
   "outputs": [],
   "source": [
    "class WikiApi:\n",
    "\n",
    "    def presets(presets):\n",
    "        presets = {**presets}\n",
    "        def request(request_func):\n",
    "            def execute(self, *args, **params):\n",
    "                params['query']=urlencode({**presets, **params})\n",
    "                return request_func(self, *args, **params)\n",
    "            return execute\n",
    "        return request\n",
    "    api_defaults={'action':'query', 'format':'json'}\n",
    "    \n",
    "    \n",
    "    \n",
    "    def __init__(self, redis_host, api='http://en.wikipedia.org/w/api.php?',\n",
    "                 api_defaults={'action':'query', 'format':'json'}, \n",
    "                 subcat_key_format='subcats_{}', page_key_format='pages_{}',\n",
    "                 **redis_params):\n",
    "        '''\n",
    "        Initialize with the address of the API, a redis connection,\n",
    "            redis key format strings for subcategory and page lists,\n",
    "            and a variable to store queries.\n",
    "        '''\n",
    "        self._api = api\n",
    "        self._api_defaults = api_defaults\n",
    "        self._redis = StrictRedis(redis_host, **redis_params)\n",
    "        self._subcat_key_fmt = subcat_key_format\n",
    "        self._page_key_fmt = page_key_format\n",
    "\n",
    "        \n",
    "        \n",
    "    @presets({'list':'categorymembers', 'cmtype':'page', 'cmlimit':'max'})\n",
    "    def get_pages(self, category, subcat_depth=0, query=None, **params):\n",
    "        '''\n",
    "        Submits request to Wikipedia for category information\n",
    "        -- Parameters --\n",
    "        category: Name of the to category to get pages from\n",
    "        params: Any additional key-value pairs for the API request\n",
    "        Returns API response in JSON format\n",
    "        '''\n",
    "        return self._query_category(category, self._page_key_format,**params)\n",
    "        \n",
    "        \n",
    "    \n",
    "    @presets({'list':'categorymembers', 'cmtype':'subcat', 'cmlimit':'max'})\n",
    "    def get_subcats(self, category, subcat_depth=0, query=None, **params):\n",
    "        '''\n",
    "        Submits request to Wikipedia for category information\n",
    "        -- Parameters --\n",
    "        category: Name of the to category to get page list from\n",
    "        subcat_depth: Max # of levels of subcategories to get\n",
    "        params: Any additional key-value pairs for the API request\n",
    "        Returns API response in JSON format\n",
    "        '''\n",
    "        data = self._query_category(category, self._subcat_key_format, **params)\n",
    "        if subcat_depth > 0:\n",
    "            for subcat in data:\n",
    "                data += self.subcategories(subcat['title'], subcat_depth - 1, **params)\n",
    "        return data\n",
    "        \n",
    "\n",
    "        \n",
    "    @presets({'prop':'revision', 'rvprop':'content', 'limit':'max'})\n",
    "    def get_content(self, ref_type='titles', *refs, query=None, **params):\n",
    "        '''\n",
    "        Submits request to Wikipedia for content of page(s)\n",
    "        -- Parameters --\n",
    "        ref_type: Type of page reference - either 'titles' or 'pageids'\n",
    "        refs: Page title(s) or pageid(s), as strings.\n",
    "        params: Any additional key-value pairs for the API request\n",
    "        Returns API response in JSON format\n",
    "        '''\n",
    "        if ref_type != 'titles' and ref_type != 'pageids':\n",
    "            raise ValueError(\"ref_type must be 'titles' or 'pageids'\")\n",
    "            \n",
    "        self._query = '&'.join([\n",
    "            self._query,\n",
    "            tasty_params(**{ref_type: refs}, **params)\n",
    "        ])\n",
    "        return requests.get(self._query).json()\n",
    "    \n",
    "    \n",
    "        \n",
    "    def _query_category(self, query, key_format, **params):\n",
    "        '''\n",
    "        Submits request to Wikipedia and incrementally saves results in redis\n",
    "        -- Parameters --\n",
    "        category: Name of the to category to get page list from\n",
    "        key_format: Redis key format string to format with category\n",
    "        params: Any additional key-value pairs for the API request\n",
    "        Returns dictionary of results.\n",
    "        '''\n",
    "        key = key_format.format(category)\n",
    "        resp = requests.get(self._query).json()\n",
    "        data = resp['query']['categorymembers']\n",
    "        self._redis.set(key, data)\n",
    "        while 'continue' in resp.keys():\n",
    "            to_append = '&cmcontinue=' + resp['continue']['cmcontinue']\n",
    "            resp = requests.get(self._query + to_append).json()\n",
    "            data += resp['query']['categorymembers']\n",
    "            self._redis.set(key, json.dumps(data))\n",
    "        return data"
   ]
  },
  {
   "cell_type": "code",
   "execution_count": null,
   "metadata": {
    "collapsed": true
   },
   "outputs": [],
   "source": []
  }
 ],
 "metadata": {
  "kernelspec": {
   "display_name": "Python 3",
   "language": "python",
   "name": "python3"
  },
  "language_info": {
   "codemirror_mode": {
    "name": "ipython",
    "version": 3
   },
   "file_extension": ".py",
   "mimetype": "text/x-python",
   "name": "python",
   "nbconvert_exporter": "python",
   "pygments_lexer": "ipython3",
   "version": "3.5.2"
  }
 },
 "nbformat": 4,
 "nbformat_minor": 2
}
